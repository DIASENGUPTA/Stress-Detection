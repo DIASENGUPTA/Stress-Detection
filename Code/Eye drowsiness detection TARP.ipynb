{
 "cells": [
  {
   "cell_type": "markdown",
   "id": "unsigned-accounting",
   "metadata": {},
   "source": [
    "# Eye Drowsiness Detection"
   ]
  },
  {
   "cell_type": "code",
   "execution_count": 8,
   "id": "matched-klein",
   "metadata": {},
   "outputs": [],
   "source": [
    "# Headerfiles\n",
    "from scipy.spatial import distance\n",
    "from PIL import Image, ImageTk\n",
    "from imutils import face_utils\n",
    "import tkinter as tk\n",
    "import numpy as np\n",
    "import pygame\n",
    "import dlib\n",
    "import PIL\n",
    "import cv2\n",
    "import os\n"
   ]
  },
  {
   "cell_type": "code",
   "execution_count": 9,
   "id": "large-miller",
   "metadata": {},
   "outputs": [],
   "source": [
    "#Aspect Ratio Calculation\n",
    "def eye_aspect_ratio(eye):\n",
    "    A = distance.euclidean(eye[1], eye[5])\n",
    "    B = distance.euclidean(eye[2], eye[4])\n",
    "    C = distance.euclidean(eye[0], eye[3])\n",
    "    return((A+B) / (2*C));"
   ]
  },
  {
   "cell_type": "code",
   "execution_count": 10,
   "id": "representative-pricing",
   "metadata": {},
   "outputs": [],
   "source": [
    "#Drawing eye points\n",
    "def drawPoints(eye, frame):\n",
    "    for cent in eye:\n",
    "        cv2.circle(frame,tuple(cent), 1, (255,255,255), 1);"
   ]
  },
  {
   "cell_type": "code",
   "execution_count": 11,
   "id": "adverse-chester",
   "metadata": {},
   "outputs": [],
   "source": [
    "#Detection of drowsiness \n",
    "def drowsy_detection(frame):\n",
    "    global COUNTER;\n",
    "    gray = cv2.cvtColor(frame, cv2.COLOR_BGR2GRAY);\n",
    "    faces = detector(gray, 0) #Detect facial points through detector function\n",
    "\n",
    "    for face in faces:\n",
    "        shape = predictor(gray, face)\n",
    "        shape = face_utils.shape_to_np(shape)\n",
    "\n",
    "        leftEye = shape[lStart:lEnd] #Get array of coordinates of leftEye and rightEye\n",
    "        rightEye = shape[rStart:rEnd]\n",
    "        \n",
    "        drawPoints(leftEye, frame);# draw the points of the eye\n",
    "        drawPoints(rightEye, frame);\n",
    "\n",
    "        l_eye = eye_aspect_ratio(leftEye)#calculation of aspect ratio\n",
    "        r_eye = eye_aspect_ratio(rightEye)\n",
    "        eye = (l_eye + r_eye) / 2\n",
    "\n",
    "        cv2.drawContours(frame, [leftEye], -1, (0, 255, 0), 1)#draw the points around the eye\n",
    "        cv2.drawContours(frame, [rightEye], -1, (0, 255, 0), 1)\n",
    "\n",
    "        #Threshold Calculation\n",
    "        if(eye < EYE_THRESHOLD):\n",
    "            COUNTER += 1;\n",
    "            if COUNTER >= EYE_FRAMES:\n",
    "                pygame.mixer.music.play(-1)\n",
    "                cv2.putText(frame, \"ALERT: Drowsiness detected, Unhealthy\", (30,50), cv2.FONT_HERSHEY_TRIPLEX, 1.0, (0,0,222), 2)\n",
    "        else:\n",
    "            pygame.mixer.music.stop()\n",
    "            COUNTER = 0\n",
    "        eye_str = str(eye);\n",
    "        cv2.putText(frame, (\"Eye Aspect Ratio:\"+eye_str[:4]), (10,h-50), cv2.FONT_HERSHEY_TRIPLEX, 0.7, (222,0,0), 1);\n",
    "    return frame;"
   ]
  },
  {
   "cell_type": "code",
   "execution_count": 12,
   "id": "light-burlington",
   "metadata": {},
   "outputs": [],
   "source": [
    "#Capturing and displaying the picture\n",
    "def video_loop():\n",
    "    ret, frame = cam.read()\n",
    "    if ret:\n",
    "        frame = drowsy_detection(frame);\n",
    "        cv2image = cv2.cvtColor(frame, cv2.COLOR_BGR2RGBA)\n",
    "        current_image = Image.fromarray(cv2image)  # convert image for PIL\n",
    "        imgtk = ImageTk.PhotoImage(image=current_image)  # convert image for tkinter \n",
    "        panel.imgtk = imgtk  # anchor imgtk so it does not be deleted by garbage-collector  \n",
    "        panel.config(image=imgtk)  # show the image\n",
    "\n",
    "    root.after(1, video_loop)  # call the same function after 30 milliseconds"
   ]
  },
  {
   "cell_type": "code",
   "execution_count": 13,
   "id": "placed-george",
   "metadata": {},
   "outputs": [],
   "source": [
    "#Destroying the windows\n",
    "def destructor():\n",
    "    print(\"[INFO] closing...\")\n",
    "    root.destroy()\n",
    "    cam.release()\n",
    "    cv2.destroyAllWindows()"
   ]
  },
  {
   "cell_type": "code",
   "execution_count": 14,
   "id": "according-smell",
   "metadata": {},
   "outputs": [
    {
     "name": "stdout",
     "output_type": "stream",
     "text": [
      "[INFO] Starting...\n",
      "[INFO] closing...\n"
     ]
    }
   ],
   "source": [
    "#The main function\n",
    "if __name__ == \"__main__\":\n",
    "    EYE_THRESHOLD = 0.30\n",
    "    EYE_FRAMES = 15\n",
    "    COUNTER = 0;\n",
    "\n",
    "    pygame.mixer.init() #Initialize Pygame and load music\n",
    "    pygame.mixer.music.load('alarm.wav')\n",
    "\n",
    "    detector = dlib.get_frontal_face_detector()#the detector and predictor functions\n",
    "    predictor = dlib.shape_predictor('shape_predictor_68_face_landmarks.dat')\n",
    "\n",
    "    (lStart, lEnd) = face_utils.FACIAL_LANDMARKS_IDXS['left_eye']\n",
    "    (rStart, rEnd) = face_utils.FACIAL_LANDMARKS_IDXS['right_eye']\n",
    "\n",
    "    cam = cv2.VideoCapture(0)\n",
    "    h= 480;w= 640;\n",
    "    cam.set(3, h);\n",
    "    cam.set(4, w);\n",
    "\n",
    "    current_image = None \n",
    "    print(\"[INFO] Starting...\")\n",
    "\n",
    "    root = tk.Tk() \n",
    "    root.geometry(\"720x740\")\n",
    "    root.resizable(False, False) \n",
    "    root.title(\"TARP Project\")\n",
    "    root.protocol('WM_DELETE_WINDOW', destructor)\n",
    "    title = tk.Label(root, font = \"Helvetica 25 bold\", text=\"Drowsiness Detection\").pack(anchor='center', padx='5', pady='5')\n",
    "    panel = tk.Label(root) \n",
    "    panel.pack(anchor ='center')\n",
    "    root.config(cursor=\"arrow\")\n",
    "\n",
    "    btn = tk.Button(root, text=\"Exit!\", font = \"Helvetica 14 bold\", command=destructor)\n",
    "    btn.pack(anchor='center', ipadx=5, ipady=5, pady = 5)\n",
    "\n",
    "    team =  tk.Label(root,font = \"Helvetica 16 bold\",text=\"Developer: \").pack(anchor='w', ipadx=5, ipady=2, padx = 10)\n",
    "    mate1 =  tk.Label(root,font = \"Helvetica 12 \",text=\"Kathakoli Sengupta\").pack(anchor='w', padx=50, ipady=1)\n",
    "\n",
    "    video_loop()\n",
    "\n",
    "    root.mainloop()"
   ]
  },
  {
   "cell_type": "code",
   "execution_count": null,
   "id": "molecular-hacker",
   "metadata": {},
   "outputs": [],
   "source": []
  },
  {
   "cell_type": "code",
   "execution_count": null,
   "id": "elegant-lesson",
   "metadata": {},
   "outputs": [],
   "source": []
  },
  {
   "cell_type": "code",
   "execution_count": null,
   "id": "functional-operations",
   "metadata": {},
   "outputs": [],
   "source": []
  },
  {
   "cell_type": "code",
   "execution_count": null,
   "id": "flush-vault",
   "metadata": {},
   "outputs": [],
   "source": []
  }
 ],
 "metadata": {
  "kernelspec": {
   "display_name": "Python 3",
   "language": "python",
   "name": "python3"
  },
  "language_info": {
   "codemirror_mode": {
    "name": "ipython",
    "version": 3
   },
   "file_extension": ".py",
   "mimetype": "text/x-python",
   "name": "python",
   "nbconvert_exporter": "python",
   "pygments_lexer": "ipython3",
   "version": "3.6.12"
  }
 },
 "nbformat": 4,
 "nbformat_minor": 5
}
